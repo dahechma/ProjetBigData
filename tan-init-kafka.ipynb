{
 "cells": [
  {
   "cell_type": "markdown",
   "metadata": {},
   "source": [
    "# TP Big Data - Initialisation du Streaming Kafka pour TAN API\n",
    "\n",
    "Ce notebook permet d'initialiser le flux de données depuis l'API TAN vers Kafka. Nous collectons des données en temps réel sur les arrêts de transport en commun de Nantes et les temps d'attente."
   ]
  },
  {
   "cell_type": "markdown",
   "metadata": {},
   "source": [
    "## Importation des bibliothèques nécessaires"
   ]
  },
  {
   "cell_type": "code",
   "execution_count": 1,
   "metadata": {},
   "outputs": [],
   "source": [
    "import requests\n",
    "from kafka import KafkaProducer\n",
    "import json\n",
    "import time\n",
    "from datetime import datetime\n",
    "import logging\n",
    "\n",
    "# Configuration du logging\n",
    "logging.basicConfig(\n",
    "    level=logging.INFO,\n",
    "    format='%(asctime)s - %(levelname)s - %(message)s'\n",
    ")\n",
    "logger = logging.getLogger(__name__)"
   ]
  },
  {
   "cell_type": "markdown",
   "metadata": {},
   "source": [
    "## Fonction d'envoi des données vers Kafka\n",
    "\n",
    "Cette fonction récupère les données depuis l'API TAN et les envoie à un topic Kafka."
   ]
  },
  {
   "cell_type": "code",
   "execution_count": 3,
   "metadata": {},
   "outputs": [],
   "source": [
    "def send_tan_to_kafka(topic, api_url, fields={}):\n",
    "    \"\"\"\n",
    "    Récupère les données de l'API TAN et les envoie vers Kafka.\n",
    "    \n",
    "    Args:\n",
    "        topic (str): Nom du topic Kafka\n",
    "        api_url (str): URL de l'API TAN\n",
    "        fields (dict): Mapping des champs à renommer (optionnel)\n",
    "    \"\"\"\n",
    "    # Configuration Kafka\n",
    "    kafka_config = {\n",
    "        'bootstrap_servers': 'kafka1:9092',\n",
    "    }\n",
    "\n",
    "    # Initialisation du producteur Kafka\n",
    "    producer = KafkaProducer(\n",
    "        bootstrap_servers=kafka_config['bootstrap_servers'],\n",
    "        value_serializer=lambda v: json.dumps(v).encode('utf-8')\n",
    "    )\n",
    "\n",
    "    try:\n",
    "        # Récupération des données depuis l'API TAN\n",
    "        response = requests.get(api_url, timeout=10)\n",
    "\n",
    "        if response.status_code == 200:\n",
    "            data = response.json()\n",
    "            count = 0\n",
    "            \n",
    "            # Traitement des données selon le format (liste ou objet unique)\n",
    "            if isinstance(data, list):\n",
    "                for entry in data:\n",
    "                    # Application du mapping de champs si nécessaire\n",
    "                    for field in fields:\n",
    "                        if field in entry:\n",
    "                            entry[fields[field]] = entry.pop(field)\n",
    "                    \n",
    "                    # Ajout d'un timestamp pour le traitement en streaming\n",
    "                    entry['timestamp'] = datetime.now().isoformat()\n",
    "                    \n",
    "                    # Envoi des données à Kafka\n",
    "                    producer.send(topic, value=entry)\n",
    "                    print(f\"Sent: {entry}\")\n",
    "                    count += 1\n",
    "            else:\n",
    "                # Ajouter le timestamp\n",
    "                data['timestamp'] = datetime.now().isoformat()\n",
    "                producer.send(topic, value=data)\n",
    "                print(f\"Sent: {data}\")\n",
    "                count = 1\n",
    "\n",
    "            # S'assurer que tous les messages sont envoyés\n",
    "            producer.flush()\n",
    "            print(f\"Sent {count} records.\")\n",
    "        else:\n",
    "            print(f\"Failed to fetch data: {response.status_code}, {response.text}\")\n",
    "    except Exception as e:\n",
    "        print(f\"Error: {e}\")\n",
    "    finally:\n",
    "        producer.close()"
   ]
  },
  {
   "cell_type": "markdown",
   "metadata": {},
   "source": [
    "## Collecte des arrêts à proximité\n",
    "\n",
    "Nous allons récupérer les arrêts à proximité d'un point donné (par exemple, place du Commerce à Nantes)."
   ]
  },
  {
   "cell_type": "code",
   "execution_count": 4,
   "metadata": {},
   "outputs": [
    {
     "name": "stderr",
     "output_type": "stream",
     "text": [
      "2025-03-24 21:31:27,457 - INFO - <BrokerConnection node_id=bootstrap-0 host=kafka1:9092 <connecting> [IPv4 ('172.21.0.6', 9092)]>: connecting to kafka1:9092 [('172.21.0.6', 9092) IPv4]\n",
      "2025-03-24 21:31:27,459 - INFO - Probing node bootstrap-0 broker version\n",
      "2025-03-24 21:31:27,461 - INFO - <BrokerConnection node_id=bootstrap-0 host=kafka1:9092 <connecting> [IPv4 ('172.21.0.6', 9092)]>: Connection complete.\n",
      "2025-03-24 21:31:27,571 - INFO - Broker version identified as 2.5.0\n",
      "2025-03-24 21:31:27,572 - INFO - Set configuration api_version=(2, 5, 0) to skip auto check_version requests on startup\n",
      "2025-03-24 21:31:27,760 - INFO - <BrokerConnection node_id=1 host=kafka1:9092 <connecting> [IPv4 ('172.21.0.6', 9092)]>: connecting to kafka1:9092 [('172.21.0.6', 9092) IPv4]\n",
      "2025-03-24 21:31:27,763 - INFO - <BrokerConnection node_id=1 host=kafka1:9092 <connecting> [IPv4 ('172.21.0.6', 9092)]>: Connection complete.\n",
      "2025-03-24 21:31:27,764 - INFO - <BrokerConnection node_id=bootstrap-0 host=kafka1:9092 <connected> [IPv4 ('172.21.0.6', 9092)]>: Closing connection. \n",
      "2025-03-24 21:31:28,954 - INFO - Closing the Kafka producer with 9223372036.0 secs timeout.\n",
      "2025-03-24 21:31:28,956 - INFO - <BrokerConnection node_id=1 host=kafka1:9092 <connected> [IPv4 ('172.21.0.6', 9092)]>: Closing connection. \n"
     ]
    },
    {
     "name": "stdout",
     "output_type": "stream",
     "text": [
      "Sent: {'ligne': [{'numLigne': '11'}, {'numLigne': '2'}, {'numLigne': '23'}, {'numLigne': '2B'}, {'numLigne': '3B'}, {'numLigne': 'C1'}, {'numLigne': 'C2'}, {'numLigne': 'C6'}, {'numLigne': 'NC'}, {'numLigne': 'NN'}, {'numLigne': 'NO'}], 'stop_code': 'CRQU', 'stop_name': 'Place du Cirque', 'stop_distance': '61 m', 'timestamp': '2025-03-24T21:31:27.705372'}\n",
      "Sent: {'ligne': [{'numLigne': '11'}, {'numLigne': '12'}, {'numLigne': '23'}, {'numLigne': '2B'}, {'numLigne': '3B'}, {'numLigne': 'C1'}, {'numLigne': 'C2'}, {'numLigne': 'C6'}, {'numLigne': 'NO'}], 'stop_code': 'CMAR', 'stop_name': 'Cirque - Marais', 'stop_distance': '163 m', 'timestamp': '2025-03-24T21:31:28.867297'}\n",
      "Sent: {'ligne': [{'numLigne': '3'}], 'stop_code': 'BRTA', 'stop_name': 'Bretagne', 'stop_distance': '164 m', 'timestamp': '2025-03-24T21:31:28.867497'}\n",
      "Sent: {'ligne': [{'numLigne': '11'}, {'numLigne': '23'}, {'numLigne': '26'}, {'numLigne': '54'}, {'numLigne': 'C1'}, {'numLigne': 'C3'}, {'numLigne': 'C6'}], 'stop_code': 'SNIC', 'stop_name': 'St-Nicolas', 'stop_distance': '217 m', 'timestamp': '2025-03-24T21:31:28.867575'}\n",
      "Sent: {'ligne': [{'numLigne': '11'}, {'numLigne': '12'}, {'numLigne': 'C1'}, {'numLigne': 'C6'}, {'numLigne': 'NC'}, {'numLigne': 'NN'}], 'stop_code': 'HVNA', 'stop_name': 'Hôtel de Ville', 'stop_distance': '221 m', 'timestamp': '2025-03-24T21:31:28.867653'}\n",
      "Sent: {'ligne': [{'numLigne': '1'}, {'numLigne': '11'}, {'numLigne': '2'}, {'numLigne': '23'}, {'numLigne': '26'}, {'numLigne': '2B'}, {'numLigne': '3'}, {'numLigne': '3B'}, {'numLigne': '54'}, {'numLigne': 'C1'}, {'numLigne': 'C2'}, {'numLigne': 'C3'}, {'numLigne': 'NA'}, {'numLigne': 'NC'}, {'numLigne': 'NN'}, {'numLigne': 'NO'}], 'stop_code': 'COMM', 'stop_name': 'Commerce', 'stop_distance': '345 m', 'timestamp': '2025-03-24T21:31:28.867708'}\n",
      "Sent: {'ligne': [{'numLigne': '3'}, {'numLigne': '3B'}], 'stop_code': 'JJNA', 'stop_name': 'Jean Jaurès', 'stop_distance': '370 m', 'timestamp': '2025-03-24T21:31:28.867837'}\n",
      "Sent: {'ligne': [{'numLigne': '11'}, {'numLigne': '12'}, {'numLigne': 'C1'}, {'numLigne': 'C6'}, {'numLigne': 'NC'}, {'numLigne': 'NN'}], 'stop_code': 'STPI', 'stop_name': 'St-Pierre', 'stop_distance': '402 m', 'timestamp': '2025-03-24T21:31:28.867894'}\n",
      "Sent: {'ligne': [{'numLigne': '11'}, {'numLigne': '12'}, {'numLigne': '2'}, {'numLigne': '23'}, {'numLigne': '2B'}, {'numLigne': '3B'}, {'numLigne': 'C1'}, {'numLigne': 'C2'}, {'numLigne': 'C6'}, {'numLigne': 'NO'}], 'stop_code': 'OTAG', 'stop_name': '50 Otages', 'stop_distance': '408 m', 'timestamp': '2025-03-24T21:31:28.868000'}\n",
      "Sent: {'ligne': [{'numLigne': '1'}], 'stop_code': 'BOFA', 'stop_name': 'Bouffay', 'stop_distance': '419 m', 'timestamp': '2025-03-24T21:31:28.868077'}\n",
      "Sent 10 records.\n"
     ]
    }
   ],
   "source": [
    "# Configuration pour les arrêts de bus/tram\n",
    "latitude = \"47.21661\"  # Place du Commerce\n",
    "longitude = \"-1.556754\"\n",
    "api_url_stops = f\"https://open.tan.fr/ewp/arrets.json/{latitude}/{longitude}\"\n",
    "\n",
    "# Mapping des champs (optionnel) pour harmoniser les noms\n",
    "fields_stops = {\n",
    "    \"codeLieu\": \"stop_code\",\n",
    "    \"libelle\": \"stop_name\",\n",
    "    \"distance\": \"stop_distance\"\n",
    "}\n",
    "\n",
    "# Envoi des données des arrêts à Kafka\n",
    "send_tan_to_kafka(\"tan_stops\", api_url_stops, fields_stops)"
   ]
  },
  {
   "cell_type": "markdown",
   "metadata": {},
   "source": [
    "## Collecte des temps d'attente\n",
    "\n",
    "Récupérons les temps d'attente à un arrêt spécifique (par exemple, Place du Cirque - CRQU)."
   ]
  },
  {
   "cell_type": "code",
   "execution_count": 5,
   "metadata": {},
   "outputs": [
    {
     "name": "stderr",
     "output_type": "stream",
     "text": [
      "2025-03-24 21:31:32,512 - INFO - <BrokerConnection node_id=bootstrap-0 host=kafka1:9092 <connecting> [IPv4 ('172.21.0.6', 9092)]>: connecting to kafka1:9092 [('172.21.0.6', 9092) IPv4]\n",
      "2025-03-24 21:31:32,514 - INFO - Probing node bootstrap-0 broker version\n",
      "2025-03-24 21:31:32,516 - INFO - <BrokerConnection node_id=bootstrap-0 host=kafka1:9092 <connecting> [IPv4 ('172.21.0.6', 9092)]>: Connection complete.\n",
      "2025-03-24 21:31:32,633 - INFO - Broker version identified as 2.5.0\n",
      "2025-03-24 21:31:32,634 - INFO - Set configuration api_version=(2, 5, 0) to skip auto check_version requests on startup\n",
      "2025-03-24 21:31:33,125 - INFO - <BrokerConnection node_id=1 host=kafka1:9092 <connecting> [IPv4 ('172.21.0.6', 9092)]>: connecting to kafka1:9092 [('172.21.0.6', 9092) IPv4]\n",
      "2025-03-24 21:31:33,127 - INFO - <BrokerConnection node_id=1 host=kafka1:9092 <connecting> [IPv4 ('172.21.0.6', 9092)]>: Connection complete.\n",
      "2025-03-24 21:31:33,128 - INFO - <BrokerConnection node_id=bootstrap-0 host=kafka1:9092 <connected> [IPv4 ('172.21.0.6', 9092)]>: Closing connection. \n",
      "2025-03-24 21:31:33,488 - INFO - <BrokerConnection node_id=1 host=kafka1:9092 <connected> [IPv4 ('172.21.0.6', 9092)]>: Closing connection. \n"
     ]
    },
    {
     "name": "stdout",
     "output_type": "stream",
     "text": [
      "Sent: {'sens': 1, 'terminus': 'Orvault Grand Val', 'infotrafic': False, 'temps': 'proche', 'dernierDepart': 'false', 'tempsReel': 'true', 'ligne': {'numLigne': '2', 'typeLigne': 1}, 'arret': {'codeArret': 'CRQU1'}, 'timestamp': '2025-03-24T21:31:33.069897'}\n",
      "Sent: {'sens': 2, 'terminus': 'Espace Diderot', 'infotrafic': False, 'temps': '9mn', 'dernierDepart': 'false', 'tempsReel': 'true', 'ligne': {'numLigne': '2', 'typeLigne': 1}, 'arret': {'codeArret': 'CRQU2'}, 'timestamp': '2025-03-24T21:31:33.471074'}\n",
      "Sent: {'sens': 1, 'terminus': 'Orvault Grand Val', 'infotrafic': False, 'temps': '16mn', 'dernierDepart': 'false', 'tempsReel': 'false', 'ligne': {'numLigne': '2', 'typeLigne': 1}, 'arret': {'codeArret': 'CRQU1'}, 'timestamp': '2025-03-24T21:31:33.471153'}\n",
      "Sent: {'sens': 2, 'terminus': 'Gare de Pont Rousseau', 'infotrafic': False, 'temps': '24mn', 'dernierDepart': 'false', 'tempsReel': 'true', 'ligne': {'numLigne': '2', 'typeLigne': 1}, 'arret': {'codeArret': 'CRQU2'}, 'timestamp': '2025-03-24T21:31:33.471196'}\n",
      "Sent: {'sens': 1, 'terminus': 'Haluchère - Batignolles', 'infotrafic': True, 'temps': '6mn', 'dernierDepart': 'false', 'tempsReel': 'true', 'ligne': {'numLigne': 'C1', 'typeLigne': 3}, 'arret': {'codeArret': 'CRQU4'}, 'timestamp': '2025-03-24T21:31:33.471233'}\n",
      "Sent: {'sens': 2, 'terminus': 'Gare de Chantenay', 'infotrafic': False, 'temps': '17mn', 'dernierDepart': 'false', 'tempsReel': 'true', 'ligne': {'numLigne': 'C1', 'typeLigne': 3}, 'arret': {'codeArret': 'CRQU3'}, 'timestamp': '2025-03-24T21:31:33.471268'}\n",
      "Sent: {'sens': 1, 'terminus': 'Haluchère - Batignolles', 'infotrafic': True, 'temps': '20mn', 'dernierDepart': 'false', 'tempsReel': 'true', 'ligne': {'numLigne': 'C1', 'typeLigne': 3}, 'arret': {'codeArret': 'CRQU4'}, 'timestamp': '2025-03-24T21:31:33.471299'}\n",
      "Sent: {'sens': 2, 'terminus': 'Gare de Chantenay', 'infotrafic': False, 'temps': '47mn', 'dernierDepart': 'false', 'tempsReel': 'true', 'ligne': {'numLigne': 'C1', 'typeLigne': 3}, 'arret': {'codeArret': 'CRQU3'}, 'timestamp': '2025-03-24T21:31:33.471330'}\n",
      "Sent: {'sens': 1, 'terminus': 'Le Cardo', 'infotrafic': False, 'temps': '1mn', 'dernierDepart': 'false', 'tempsReel': 'true', 'ligne': {'numLigne': 'C2', 'typeLigne': 3}, 'arret': {'codeArret': 'CRQU4'}, 'timestamp': '2025-03-24T21:31:33.471359'}\n",
      "Sent: {'sens': 2, 'terminus': 'Gare Sud', 'infotrafic': False, 'temps': '11mn', 'dernierDepart': 'false', 'tempsReel': 'true', 'ligne': {'numLigne': 'C2', 'typeLigne': 3}, 'arret': {'codeArret': 'CRQU3'}, 'timestamp': '2025-03-24T21:31:33.471391'}\n",
      "Sent: {'sens': 1, 'terminus': 'Le Cardo', 'infotrafic': False, 'temps': '15mn', 'dernierDepart': 'false', 'tempsReel': 'true', 'ligne': {'numLigne': 'C2', 'typeLigne': 3}, 'arret': {'codeArret': 'CRQU4'}, 'timestamp': '2025-03-24T21:31:33.471421'}\n",
      "Sent: {'sens': 2, 'terminus': 'Gare Sud', 'infotrafic': False, 'temps': '30mn', 'dernierDepart': 'false', 'tempsReel': 'true', 'ligne': {'numLigne': 'C2', 'typeLigne': 3}, 'arret': {'codeArret': 'CRQU3'}, 'timestamp': '2025-03-24T21:31:33.471449'}\n",
      "Sent: {'sens': 2, 'terminus': 'Hermeland', 'infotrafic': False, 'temps': '4mn', 'dernierDepart': 'false', 'tempsReel': 'true', 'ligne': {'numLigne': 'C6', 'typeLigne': 3}, 'arret': {'codeArret': 'CRQU3'}, 'timestamp': '2025-03-24T21:31:33.471480'}\n",
      "Sent: {'sens': 2, 'terminus': 'Hermeland', 'infotrafic': False, 'temps': '13mn', 'dernierDepart': 'false', 'tempsReel': 'true', 'ligne': {'numLigne': 'C6', 'typeLigne': 3}, 'arret': {'codeArret': 'CRQU3'}, 'timestamp': '2025-03-24T21:31:33.471507'}\n",
      "Sent: {'sens': 1, 'terminus': 'Chantrerie - Grandes Écoles', 'infotrafic': True, 'temps': '16mn', 'dernierDepart': 'false', 'tempsReel': 'true', 'ligne': {'numLigne': 'C6', 'typeLigne': 3}, 'arret': {'codeArret': 'CRQU4'}, 'timestamp': '2025-03-24T21:31:33.471537'}\n",
      "Sent: {'sens': 1, 'terminus': 'Chantrerie - Grandes Écoles', 'infotrafic': True, 'temps': '43mn', 'dernierDepart': 'false', 'tempsReel': 'true', 'ligne': {'numLigne': 'C6', 'typeLigne': 3}, 'arret': {'codeArret': 'CRQU4'}, 'timestamp': '2025-03-24T21:31:33.471567'}\n",
      "Sent: {'sens': 1, 'terminus': 'Tertre', 'infotrafic': True, 'temps': '', 'dernierDepart': 'false', 'tempsReel': 'false', 'ligne': {'numLigne': '11', 'typeLigne': 3}, 'arret': {'codeArret': 'CRQU3'}, 'timestamp': '2025-03-24T21:31:33.471595'}\n",
      "Sent: {'sens': 2, 'terminus': 'Perray', 'infotrafic': True, 'temps': '', 'dernierDepart': 'false', 'tempsReel': 'false', 'ligne': {'numLigne': '11', 'typeLigne': 3}, 'arret': {'codeArret': 'CRQU4'}, 'timestamp': '2025-03-24T21:31:33.471623'}\n",
      "Sent: {'sens': 1, 'terminus': 'Haluchère - Batignolles', 'infotrafic': True, 'temps': '', 'dernierDepart': 'false', 'tempsReel': 'false', 'ligne': {'numLigne': '23', 'typeLigne': 3}, 'arret': {'codeArret': 'CRQU4'}, 'timestamp': '2025-03-24T21:31:33.471650'}\n",
      "Sent: {'sens': 2, 'terminus': 'Maison des Arts', 'infotrafic': True, 'temps': '', 'dernierDepart': 'false', 'tempsReel': 'false', 'ligne': {'numLigne': '23', 'typeLigne': 3}, 'arret': {'codeArret': 'CRQU3'}, 'timestamp': '2025-03-24T21:31:33.471678'}\n",
      "Sent: {'sens': 1, 'terminus': 'Chantrerie - Grandes Écoles', 'infotrafic': False, 'temps': '', 'dernierDepart': 'false', 'tempsReel': 'false', 'ligne': {'numLigne': 'NC', 'typeLigne': 3}, 'arret': {'codeArret': 'CRQU4'}, 'timestamp': '2025-03-24T21:31:33.471707'}\n",
      "Sent 21 records.\n"
     ]
    }
   ],
   "source": [
    "# Configuration pour les temps d'attente\n",
    "stop_code = \"CRQU\"  # Place du Cirque\n",
    "api_url_wait = f\"https://open.tan.fr/ewp/tempsattente.json/{stop_code}\"\n",
    "\n",
    "# Pas de mapping spécifique pour cet endpoint\n",
    "# Envoi des données de temps d'attente à Kafka\n",
    "send_tan_to_kafka(\"tan_wait_times\", api_url_wait)"
   ]
  },
  {
   "cell_type": "markdown",
   "metadata": {},
   "source": [
    "## Collecte des horaires à un arrêt spécifique\n",
    "\n",
    "Récupérons les horaires détaillés pour un arrêt, une ligne et une direction spécifiques."
   ]
  },
  {
   "cell_type": "code",
   "execution_count": 6,
   "metadata": {},
   "outputs": [
    {
     "name": "stderr",
     "output_type": "stream",
     "text": [
      "2025-03-24 21:31:36,343 - INFO - <BrokerConnection node_id=bootstrap-0 host=kafka1:9092 <connecting> [IPv4 ('172.21.0.6', 9092)]>: connecting to kafka1:9092 [('172.21.0.6', 9092) IPv4]\n",
      "2025-03-24 21:31:36,344 - INFO - Probing node bootstrap-0 broker version\n",
      "2025-03-24 21:31:36,346 - INFO - <BrokerConnection node_id=bootstrap-0 host=kafka1:9092 <connecting> [IPv4 ('172.21.0.6', 9092)]>: Connection complete.\n",
      "2025-03-24 21:31:36,454 - INFO - Broker version identified as 2.5.0\n",
      "2025-03-24 21:31:36,455 - INFO - Set configuration api_version=(2, 5, 0) to skip auto check_version requests on startup\n",
      "2025-03-24 21:31:36,596 - INFO - <BrokerConnection node_id=bootstrap-0 host=kafka1:9092 <connected> [IPv4 ('172.21.0.6', 9092)]>: Closing connection. \n"
     ]
    },
    {
     "name": "stdout",
     "output_type": "stream",
     "text": [
      "Failed to fetch data: 500, <!DOCTYPE html>\n",
      "<html>\n",
      "<head>\n",
      "    <meta charset=\"UTF-8\" />\n",
      "    <meta name=\"robots\" content=\"noindex,nofollow,noarchive\" />\n",
      "    <title>An Error Occurred: Internal Server Error</title>\n",
      "    <style>body { background-color: #fff; color: #222; font: 16px/1.5 -apple-system, BlinkMacSystemFont, \"Segoe UI\", Roboto, \"Helvetica Neue\", Arial, sans-serif; margin: 0; }\n",
      ".container { margin: 30px; max-width: 600px; }\n",
      "h1 { color: #dc3545; font-size: 24px; }\n",
      "h2 { font-size: 18px; }</style>\n",
      "</head>\n",
      "<body>\n",
      "<div class=\"container\">\n",
      "    <h1>Oops! An Error Occurred</h1>\n",
      "    <h2>The server returned a \"500 Internal Server Error\".</h2>\n",
      "\n",
      "    <p>\n",
      "        Something is broken. Please let us know what you were doing when this error occurred.\n",
      "        We will fix it as soon as possible. Sorry for any inconvenience caused.\n",
      "    </p>\n",
      "</div>\n",
      "</body>\n",
      "</html>\n"
     ]
    }
   ],
   "source": [
    "# Configuration pour les horaires\n",
    "stop_code = \"COMM\"  # Commerce\n",
    "line = \"1\"          # Ligne 1\n",
    "direction = \"1\"     # Direction 1\n",
    "api_url_schedule = f\"https://open.tan.fr/ewp/horairesarret.json/{stop_code}/{line}/{direction}\"\n",
    "\n",
    "# Envoi des données d'horaires à Kafka\n",
    "send_tan_to_kafka(\"tan_schedules\", api_url_schedule)"
   ]
  },
  {
   "cell_type": "markdown",
   "metadata": {},
   "source": [
    "## Collecte continue des données\n",
    "\n",
    "Pour une analyse en temps réel, nous pouvons collecter les données à intervalles réguliers."
   ]
  },
  {
   "cell_type": "code",
   "execution_count": 7,
   "metadata": {},
   "outputs": [],
   "source": [
    "def continuous_data_collection(duration_minutes=5, interval_seconds=60):\n",
    "    \"\"\"\n",
    "    Collecte continue de données pour une durée déterminée.\n",
    "    \n",
    "    Args:\n",
    "        duration_minutes (int): Durée de la collecte en minutes (0 = infini)\n",
    "        interval_seconds (int): Intervalle entre les collectes en secondes\n",
    "    \"\"\"\n",
    "    # Points d'intérêt à Nantes\n",
    "    locations = [\n",
    "        (\"47.21661\", \"-1.556754\"),  # Place du Commerce\n",
    "        (\"47.2175\", \"-1.5419\")      # Gare SNCF\n",
    "    ]\n",
    "    \n",
    "    # Arrêts importants\n",
    "    stop_codes = [\"CRQU\", \"COMM\", \"PIRA1\"]\n",
    "    \n",
    "    # Horaires des lignes principales\n",
    "    schedules = [\n",
    "        (\"COMM\", \"1\", \"1\"),  # Commerce, ligne 1, direction 1\n",
    "        (\"CRQU\", \"2\", \"1\")   # Place du Cirque, ligne 2, direction 1\n",
    "    ]\n",
    "    \n",
    "    # Calcul du nombre d'itérations\n",
    "    max_iterations = float('inf') if duration_minutes == 0 else (duration_minutes * 60) // interval_seconds\n",
    "    iteration = 0\n",
    "    \n",
    "    try:\n",
    "        start_time = time.time()\n",
    "        while iteration < max_iterations:\n",
    "            print(f\"\\n--- Itération {iteration + 1} ---\")\n",
    "            \n",
    "            # Collecte des arrêts à proximité pour chaque localisation\n",
    "            for lat, lon in locations:\n",
    "                api_url_stops = f\"https://open.tan.fr/ewp/arrets.json/{lat}/{lon}\"\n",
    "                send_tan_to_kafka(\"tan_stops\", api_url_stops, fields_stops)\n",
    "            \n",
    "            # Collecte des temps d'attente pour chaque arrêt\n",
    "            for stop in stop_codes:\n",
    "                api_url_wait = f\"https://open.tan.fr/ewp/tempsattente.json/{stop}\"\n",
    "                send_tan_to_kafka(\"tan_wait_times\", api_url_wait)\n",
    "            \n",
    "            # Collecte des horaires pour chaque configuration\n",
    "            for stop, line, direction in schedules:\n",
    "                api_url_schedule = f\"https://open.tan.fr/ewp/horairesarret.json/{stop}/{line}/{direction}\"\n",
    "                send_tan_to_kafka(\"tan_schedules\", api_url_schedule)\n",
    "            \n",
    "            # Attente avant la prochaine collecte\n",
    "            iteration += 1\n",
    "            elapsed = time.time() - start_time\n",
    "            print(f\"Collecte en cours depuis {elapsed:.1f} secondes. Attente de {interval_seconds} secondes...\")\n",
    "            time.sleep(interval_seconds)\n",
    "            \n",
    "        print(f\"Collecte terminée après {duration_minutes} minutes\")\n",
    "    except KeyboardInterrupt:\n",
    "        print(\"\\nCollecte interrompue par l'utilisateur\")\n",
    "    except Exception as e:\n",
    "        print(f\"\\nErreur lors de la collecte: {e}\")"
   ]
  },
  {
   "cell_type": "markdown",
   "metadata": {},
   "source": [
    "Exécutez cette cellule pour lancer une collecte continue pendant 5 minutes avec un intervalle d'une minute entre chaque collecte."
   ]
  },
  {
   "cell_type": "code",
   "execution_count": 8,
   "metadata": {},
   "outputs": [
    {
     "name": "stderr",
     "output_type": "stream",
     "text": [
      "2025-03-24 21:31:42,729 - INFO - <BrokerConnection node_id=bootstrap-0 host=kafka1:9092 <connecting> [IPv4 ('172.21.0.6', 9092)]>: connecting to kafka1:9092 [('172.21.0.6', 9092) IPv4]\n",
      "2025-03-24 21:31:42,731 - INFO - Probing node bootstrap-0 broker version\n",
      "2025-03-24 21:31:42,733 - INFO - <BrokerConnection node_id=bootstrap-0 host=kafka1:9092 <connecting> [IPv4 ('172.21.0.6', 9092)]>: Connection complete.\n",
      "2025-03-24 21:31:42,842 - INFO - Broker version identified as 2.5.0\n",
      "2025-03-24 21:31:42,843 - INFO - Set configuration api_version=(2, 5, 0) to skip auto check_version requests on startup\n",
      "2025-03-24 21:31:42,922 - INFO - <BrokerConnection node_id=1 host=kafka1:9092 <connecting> [IPv4 ('172.21.0.6', 9092)]>: connecting to kafka1:9092 [('172.21.0.6', 9092) IPv4]\n",
      "2025-03-24 21:31:42,923 - INFO - <BrokerConnection node_id=1 host=kafka1:9092 <connecting> [IPv4 ('172.21.0.6', 9092)]>: Connection complete.\n",
      "2025-03-24 21:31:42,924 - INFO - <BrokerConnection node_id=bootstrap-0 host=kafka1:9092 <connected> [IPv4 ('172.21.0.6', 9092)]>: Closing connection. \n"
     ]
    },
    {
     "name": "stdout",
     "output_type": "stream",
     "text": [
      "\n",
      "--- Itération 1 ---\n",
      "Sent: {'ligne': [{'numLigne': '11'}, {'numLigne': '2'}, {'numLigne': '23'}, {'numLigne': '2B'}, {'numLigne': '3B'}, {'numLigne': 'C1'}, {'numLigne': 'C2'}, {'numLigne': 'C6'}, {'numLigne': 'NC'}, {'numLigne': 'NN'}, {'numLigne': 'NO'}], 'stop_code': 'CRQU', 'stop_name': 'Place du Cirque', 'stop_distance': '61 m', 'timestamp': '2025-03-24T21:31:42.919389'}\n",
      "Sent: {'ligne': [{'numLigne': '11'}, {'numLigne': '12'}, {'numLigne': '23'}, {'numLigne': '2B'}, {'numLigne': '3B'}, {'numLigne': 'C1'}, {'numLigne': 'C2'}, {'numLigne': 'C6'}, {'numLigne': 'NO'}], 'stop_code': 'CMAR', 'stop_name': 'Cirque - Marais', 'stop_distance': '163 m', 'timestamp': '2025-03-24T21:31:42.919680'}\n",
      "Sent: {'ligne': [{'numLigne': '3'}], 'stop_code': 'BRTA', 'stop_name': 'Bretagne', 'stop_distance': '164 m', 'timestamp': '2025-03-24T21:31:42.919873'}\n",
      "Sent: {'ligne': [{'numLigne': '11'}, {'numLigne': '23'}, {'numLigne': '26'}, {'numLigne': '54'}, {'numLigne': 'C1'}, {'numLigne': 'C3'}, {'numLigne': 'C6'}], 'stop_code': 'SNIC', 'stop_name': 'St-Nicolas', 'stop_distance': '217 m', 'timestamp': '2025-03-24T21:31:42.920033'}\n",
      "Sent: {'ligne': [{'numLigne': '11'}, {'numLigne': '12'}, {'numLigne': 'C1'}, {'numLigne': 'C6'}, {'numLigne': 'NC'}, {'numLigne': 'NN'}], 'stop_code': 'HVNA', 'stop_name': 'Hôtel de Ville', 'stop_distance': '221 m', 'timestamp': '2025-03-24T21:31:42.920116'}\n",
      "Sent: {'ligne': [{'numLigne': '1'}, {'numLigne': '11'}, {'numLigne': '2'}, {'numLigne': '23'}, {'numLigne': '26'}, {'numLigne': '2B'}, {'numLigne': '3'}, {'numLigne': '3B'}, {'numLigne': '54'}, {'numLigne': 'C1'}, {'numLigne': 'C2'}, {'numLigne': 'C3'}, {'numLigne': 'NA'}, {'numLigne': 'NC'}, {'numLigne': 'NN'}, {'numLigne': 'NO'}], 'stop_code': 'COMM', 'stop_name': 'Commerce', 'stop_distance': '345 m', 'timestamp': '2025-03-24T21:31:42.920184'}\n",
      "Sent: {'ligne': [{'numLigne': '3'}, {'numLigne': '3B'}], 'stop_code': 'JJNA', 'stop_name': 'Jean Jaurès', 'stop_distance': '370 m', 'timestamp': '2025-03-24T21:31:42.920254'}\n",
      "Sent: {'ligne': [{'numLigne': '11'}, {'numLigne': '12'}, {'numLigne': 'C1'}, {'numLigne': 'C6'}, {'numLigne': 'NC'}, {'numLigne': 'NN'}], 'stop_code': 'STPI', 'stop_name': 'St-Pierre', 'stop_distance': '402 m', 'timestamp': '2025-03-24T21:31:42.920303'}\n",
      "Sent: {'ligne': [{'numLigne': '11'}, {'numLigne': '12'}, {'numLigne': '2'}, {'numLigne': '23'}, {'numLigne': '2B'}, {'numLigne': '3B'}, {'numLigne': 'C1'}, {'numLigne': 'C2'}, {'numLigne': 'C6'}, {'numLigne': 'NO'}], 'stop_code': 'OTAG', 'stop_name': '50 Otages', 'stop_distance': '408 m', 'timestamp': '2025-03-24T21:31:42.920354'}\n",
      "Sent: {'ligne': [{'numLigne': '1'}], 'stop_code': 'BOFA', 'stop_name': 'Bouffay', 'stop_distance': '419 m', 'timestamp': '2025-03-24T21:31:42.920414'}\n"
     ]
    },
    {
     "name": "stderr",
     "output_type": "stream",
     "text": [
      "2025-03-24 21:31:42,942 - INFO - <BrokerConnection node_id=1 host=kafka1:9092 <connected> [IPv4 ('172.21.0.6', 9092)]>: Closing connection. \n",
      "2025-03-24 21:31:42,946 - INFO - <BrokerConnection node_id=bootstrap-0 host=kafka1:9092 <connecting> [IPv4 ('172.21.0.6', 9092)]>: connecting to kafka1:9092 [('172.21.0.6', 9092) IPv4]\n",
      "2025-03-24 21:31:42,947 - INFO - Probing node bootstrap-0 broker version\n",
      "2025-03-24 21:31:42,948 - INFO - <BrokerConnection node_id=bootstrap-0 host=kafka1:9092 <connecting> [IPv4 ('172.21.0.6', 9092)]>: Connection complete.\n",
      "2025-03-24 21:31:43,052 - INFO - Broker version identified as 2.5.0\n",
      "2025-03-24 21:31:43,053 - INFO - Set configuration api_version=(2, 5, 0) to skip auto check_version requests on startup\n"
     ]
    },
    {
     "name": "stdout",
     "output_type": "stream",
     "text": [
      "Sent 10 records.\n"
     ]
    },
    {
     "name": "stderr",
     "output_type": "stream",
     "text": [
      "2025-03-24 21:31:43,156 - INFO - <BrokerConnection node_id=1 host=kafka1:9092 <connecting> [IPv4 ('172.21.0.6', 9092)]>: connecting to kafka1:9092 [('172.21.0.6', 9092) IPv4]\n",
      "2025-03-24 21:31:43,158 - INFO - <BrokerConnection node_id=1 host=kafka1:9092 <connecting> [IPv4 ('172.21.0.6', 9092)]>: Connection complete.\n",
      "2025-03-24 21:31:43,158 - INFO - <BrokerConnection node_id=bootstrap-0 host=kafka1:9092 <connected> [IPv4 ('172.21.0.6', 9092)]>: Closing connection. \n",
      "2025-03-24 21:31:43,182 - INFO - <BrokerConnection node_id=1 host=kafka1:9092 <connected> [IPv4 ('172.21.0.6', 9092)]>: Closing connection. \n",
      "2025-03-24 21:31:43,186 - INFO - <BrokerConnection node_id=bootstrap-0 host=kafka1:9092 <connecting> [IPv4 ('172.21.0.6', 9092)]>: connecting to kafka1:9092 [('172.21.0.6', 9092) IPv4]\n",
      "2025-03-24 21:31:43,186 - INFO - Probing node bootstrap-0 broker version\n",
      "2025-03-24 21:31:43,188 - INFO - <BrokerConnection node_id=bootstrap-0 host=kafka1:9092 <connecting> [IPv4 ('172.21.0.6', 9092)]>: Connection complete.\n",
      "2025-03-24 21:31:43,293 - INFO - Broker version identified as 2.5.0\n",
      "2025-03-24 21:31:43,294 - INFO - Set configuration api_version=(2, 5, 0) to skip auto check_version requests on startup\n"
     ]
    },
    {
     "name": "stdout",
     "output_type": "stream",
     "text": [
      "Sent: {'ligne': [{'numLigne': '1'}, {'numLigne': '1B'}], 'stop_code': 'GSNO', 'stop_name': 'Gare Nord - Jardin des Plantes', 'stop_distance': '47 m', 'timestamp': '2025-03-24T21:31:43.154778'}\n",
      "Sent: {'ligne': [{'numLigne': '5'}, {'numLigne': '54'}, {'numLigne': 'C2'}, {'numLigne': 'C3'}, {'numLigne': 'NA'}, {'numLigne': 'NS'}], 'stop_code': 'GSSU', 'stop_name': 'Gare Sud', 'stop_distance': '176 m', 'timestamp': '2025-03-24T21:31:43.155088'}\n",
      "Sent: {'ligne': [{'numLigne': '11'}, {'numLigne': '12'}, {'numLigne': 'C1'}, {'numLigne': 'C6'}], 'stop_code': 'TBCH', 'stop_name': 'Trébuchet', 'stop_distance': '379 m', 'timestamp': '2025-03-24T21:31:43.155192'}\n",
      "Sent: {'ligne': [{'numLigne': '54'}, {'numLigne': 'C2'}, {'numLigne': 'C3'}, {'numLigne': 'NA'}, {'numLigne': 'NS'}], 'stop_code': 'LUNI', 'stop_name': 'Lieu Unique', 'stop_distance': '379 m', 'timestamp': '2025-03-24T21:31:43.155279'}\n",
      "Sent: {'ligne': [{'numLigne': '1'}, {'numLigne': '1B'}], 'stop_code': 'MNFA', 'stop_name': 'Manufacture', 'stop_distance': '389 m', 'timestamp': '2025-03-24T21:31:43.155355'}\n",
      "Sent: {'ligne': [{'numLigne': '1'}, {'numLigne': '1B'}, {'numLigne': '4'}], 'stop_code': 'DCAN', 'stop_name': 'Duchesse Anne - Château', 'stop_distance': '417 m', 'timestamp': '2025-03-24T21:31:43.155423'}\n",
      "Sent: {'ligne': [{'numLigne': '5'}, {'numLigne': '54'}, {'numLigne': 'C3'}], 'stop_code': 'TBIL', 'stop_name': 'Tbilissi', 'stop_distance': '443 m', 'timestamp': '2025-03-24T21:31:43.155492'}\n",
      "Sent: {'ligne': [{'numLigne': '5'}, {'numLigne': 'C3'}, {'numLigne': 'NS'}], 'stop_code': 'BRLN', 'stop_name': 'Berlin', 'stop_distance': '444 m', 'timestamp': '2025-03-24T21:31:43.155559'}\n",
      "Sent: {'ligne': [{'numLigne': '11'}, {'numLigne': '12'}], 'stop_code': 'BTLE', 'stop_name': 'Bouteillerie', 'stop_distance': '458 m', 'timestamp': '2025-03-24T21:31:43.155627'}\n",
      "Sent: {'ligne': [{'numLigne': '5'}, {'numLigne': 'C3'}], 'stop_code': 'PICA', 'stop_name': 'Picasso', 'stop_distance': '467 m', 'timestamp': '2025-03-24T21:31:43.155696'}\n",
      "Sent: {'ligne': [{'numLigne': '4'}], 'stop_code': 'CDCO', 'stop_name': 'Cité des Congrès', 'stop_distance': '484 m', 'timestamp': '2025-03-24T21:31:43.155763'}\n",
      "Sent: {'ligne': [{'numLigne': '5'}, {'numLigne': '54'}, {'numLigne': 'C3'}], 'stop_code': 'SPIN', 'stop_name': 'Saupin', 'stop_distance': '493 m', 'timestamp': '2025-03-24T21:31:43.155847'}\n",
      "Sent 12 records.\n"
     ]
    },
    {
     "name": "stderr",
     "output_type": "stream",
     "text": [
      "2025-03-24 21:31:43,809 - INFO - <BrokerConnection node_id=1 host=kafka1:9092 <connecting> [IPv4 ('172.21.0.6', 9092)]>: connecting to kafka1:9092 [('172.21.0.6', 9092) IPv4]\n",
      "2025-03-24 21:31:43,819 - INFO - <BrokerConnection node_id=1 host=kafka1:9092 <connecting> [IPv4 ('172.21.0.6', 9092)]>: Connection complete.\n",
      "2025-03-24 21:31:43,823 - INFO - <BrokerConnection node_id=bootstrap-0 host=kafka1:9092 <connected> [IPv4 ('172.21.0.6', 9092)]>: Closing connection. \n",
      "2025-03-24 21:31:43,836 - INFO - <BrokerConnection node_id=1 host=kafka1:9092 <connected> [IPv4 ('172.21.0.6', 9092)]>: Closing connection. \n",
      "2025-03-24 21:31:43,839 - INFO - <BrokerConnection node_id=bootstrap-0 host=kafka1:9092 <connecting> [IPv4 ('172.21.0.6', 9092)]>: connecting to kafka1:9092 [('172.21.0.6', 9092) IPv4]\n",
      "2025-03-24 21:31:43,839 - INFO - Probing node bootstrap-0 broker version\n",
      "2025-03-24 21:31:43,841 - INFO - <BrokerConnection node_id=bootstrap-0 host=kafka1:9092 <connecting> [IPv4 ('172.21.0.6', 9092)]>: Connection complete.\n",
      "2025-03-24 21:31:43,948 - INFO - Broker version identified as 2.5.0\n",
      "2025-03-24 21:31:43,948 - INFO - Set configuration api_version=(2, 5, 0) to skip auto check_version requests on startup\n"
     ]
    },
    {
     "name": "stdout",
     "output_type": "stream",
     "text": [
      "Sent: {'sens': 1, 'terminus': 'Orvault Grand Val', 'infotrafic': False, 'temps': 'proche', 'dernierDepart': 'false', 'tempsReel': 'true', 'ligne': {'numLigne': '2', 'typeLigne': 1}, 'arret': {'codeArret': 'CRQU1'}, 'timestamp': '2025-03-24T21:31:43.776969'}\n",
      "Sent: {'sens': 2, 'terminus': 'Espace Diderot', 'infotrafic': False, 'temps': '9mn', 'dernierDepart': 'false', 'tempsReel': 'true', 'ligne': {'numLigne': '2', 'typeLigne': 1}, 'arret': {'codeArret': 'CRQU2'}, 'timestamp': '2025-03-24T21:31:43.779689'}\n",
      "Sent: {'sens': 1, 'terminus': 'Orvault Grand Val', 'infotrafic': False, 'temps': '16mn', 'dernierDepart': 'false', 'tempsReel': 'false', 'ligne': {'numLigne': '2', 'typeLigne': 1}, 'arret': {'codeArret': 'CRQU1'}, 'timestamp': '2025-03-24T21:31:43.779891'}\n",
      "Sent: {'sens': 2, 'terminus': 'Gare de Pont Rousseau', 'infotrafic': False, 'temps': '24mn', 'dernierDepart': 'false', 'tempsReel': 'true', 'ligne': {'numLigne': '2', 'typeLigne': 1}, 'arret': {'codeArret': 'CRQU2'}, 'timestamp': '2025-03-24T21:31:43.780160'}\n",
      "Sent: {'sens': 1, 'terminus': 'Haluchère - Batignolles', 'infotrafic': True, 'temps': '7mn', 'dernierDepart': 'false', 'tempsReel': 'true', 'ligne': {'numLigne': 'C1', 'typeLigne': 3}, 'arret': {'codeArret': 'CRQU4'}, 'timestamp': '2025-03-24T21:31:43.780392'}\n",
      "Sent: {'sens': 2, 'terminus': 'Gare de Chantenay', 'infotrafic': False, 'temps': '17mn', 'dernierDepart': 'false', 'tempsReel': 'true', 'ligne': {'numLigne': 'C1', 'typeLigne': 3}, 'arret': {'codeArret': 'CRQU3'}, 'timestamp': '2025-03-24T21:31:43.780501'}\n",
      "Sent: {'sens': 1, 'terminus': 'Haluchère - Batignolles', 'infotrafic': True, 'temps': '20mn', 'dernierDepart': 'false', 'tempsReel': 'true', 'ligne': {'numLigne': 'C1', 'typeLigne': 3}, 'arret': {'codeArret': 'CRQU4'}, 'timestamp': '2025-03-24T21:31:43.781240'}\n",
      "Sent: {'sens': 2, 'terminus': 'Gare de Chantenay', 'infotrafic': False, 'temps': '47mn', 'dernierDepart': 'false', 'tempsReel': 'true', 'ligne': {'numLigne': 'C1', 'typeLigne': 3}, 'arret': {'codeArret': 'CRQU3'}, 'timestamp': '2025-03-24T21:31:43.784346'}\n",
      "Sent: {'sens': 1, 'terminus': 'Le Cardo', 'infotrafic': False, 'temps': '1mn', 'dernierDepart': 'false', 'tempsReel': 'true', 'ligne': {'numLigne': 'C2', 'typeLigne': 3}, 'arret': {'codeArret': 'CRQU4'}, 'timestamp': '2025-03-24T21:31:43.788680'}\n",
      "Sent: {'sens': 2, 'terminus': 'Gare Sud', 'infotrafic': False, 'temps': '11mn', 'dernierDepart': 'false', 'tempsReel': 'true', 'ligne': {'numLigne': 'C2', 'typeLigne': 3}, 'arret': {'codeArret': 'CRQU3'}, 'timestamp': '2025-03-24T21:31:43.789031'}\n",
      "Sent: {'sens': 1, 'terminus': 'Le Cardo', 'infotrafic': False, 'temps': '15mn', 'dernierDepart': 'false', 'tempsReel': 'true', 'ligne': {'numLigne': 'C2', 'typeLigne': 3}, 'arret': {'codeArret': 'CRQU4'}, 'timestamp': '2025-03-24T21:31:43.789203'}\n",
      "Sent: {'sens': 2, 'terminus': 'Gare Sud', 'infotrafic': False, 'temps': '30mn', 'dernierDepart': 'false', 'tempsReel': 'true', 'ligne': {'numLigne': 'C2', 'typeLigne': 3}, 'arret': {'codeArret': 'CRQU3'}, 'timestamp': '2025-03-24T21:31:43.790076'}\n",
      "Sent: {'sens': 2, 'terminus': 'Hermeland', 'infotrafic': False, 'temps': '4mn', 'dernierDepart': 'false', 'tempsReel': 'true', 'ligne': {'numLigne': 'C6', 'typeLigne': 3}, 'arret': {'codeArret': 'CRQU3'}, 'timestamp': '2025-03-24T21:31:43.790299'}\n",
      "Sent: {'sens': 2, 'terminus': 'Hermeland', 'infotrafic': False, 'temps': '13mn', 'dernierDepart': 'false', 'tempsReel': 'true', 'ligne': {'numLigne': 'C6', 'typeLigne': 3}, 'arret': {'codeArret': 'CRQU3'}, 'timestamp': '2025-03-24T21:31:43.790745'}\n",
      "Sent: {'sens': 1, 'terminus': 'Chantrerie - Grandes Écoles', 'infotrafic': True, 'temps': '16mn', 'dernierDepart': 'false', 'tempsReel': 'true', 'ligne': {'numLigne': 'C6', 'typeLigne': 3}, 'arret': {'codeArret': 'CRQU4'}, 'timestamp': '2025-03-24T21:31:43.791412'}\n",
      "Sent: {'sens': 1, 'terminus': 'Chantrerie - Grandes Écoles', 'infotrafic': True, 'temps': '43mn', 'dernierDepart': 'false', 'tempsReel': 'true', 'ligne': {'numLigne': 'C6', 'typeLigne': 3}, 'arret': {'codeArret': 'CRQU4'}, 'timestamp': '2025-03-24T21:31:43.791513'}\n",
      "Sent: {'sens': 1, 'terminus': 'Tertre', 'infotrafic': True, 'temps': '', 'dernierDepart': 'false', 'tempsReel': 'false', 'ligne': {'numLigne': '11', 'typeLigne': 3}, 'arret': {'codeArret': 'CRQU3'}, 'timestamp': '2025-03-24T21:31:43.791639'}\n",
      "Sent: {'sens': 2, 'terminus': 'Perray', 'infotrafic': True, 'temps': '', 'dernierDepart': 'false', 'tempsReel': 'false', 'ligne': {'numLigne': '11', 'typeLigne': 3}, 'arret': {'codeArret': 'CRQU4'}, 'timestamp': '2025-03-24T21:31:43.792612'}\n",
      "Sent: {'sens': 1, 'terminus': 'Haluchère - Batignolles', 'infotrafic': True, 'temps': '', 'dernierDepart': 'false', 'tempsReel': 'false', 'ligne': {'numLigne': '23', 'typeLigne': 3}, 'arret': {'codeArret': 'CRQU4'}, 'timestamp': '2025-03-24T21:31:43.795794'}\n",
      "Sent: {'sens': 2, 'terminus': 'Maison des Arts', 'infotrafic': True, 'temps': '', 'dernierDepart': 'false', 'tempsReel': 'false', 'ligne': {'numLigne': '23', 'typeLigne': 3}, 'arret': {'codeArret': 'CRQU3'}, 'timestamp': '2025-03-24T21:31:43.796605'}\n",
      "Sent: {'sens': 1, 'terminus': 'Chantrerie - Grandes Écoles', 'infotrafic': False, 'temps': '', 'dernierDepart': 'false', 'tempsReel': 'false', 'ligne': {'numLigne': 'NC', 'typeLigne': 3}, 'arret': {'codeArret': 'CRQU4'}, 'timestamp': '2025-03-24T21:31:43.796675'}\n",
      "Sent 21 records.\n"
     ]
    },
    {
     "name": "stderr",
     "output_type": "stream",
     "text": [
      "2025-03-24 21:31:44,493 - INFO - <BrokerConnection node_id=1 host=kafka1:9092 <connecting> [IPv4 ('172.21.0.6', 9092)]>: connecting to kafka1:9092 [('172.21.0.6', 9092) IPv4]\n",
      "2025-03-24 21:31:44,494 - INFO - <BrokerConnection node_id=1 host=kafka1:9092 <connecting> [IPv4 ('172.21.0.6', 9092)]>: Connection complete.\n",
      "2025-03-24 21:31:44,495 - INFO - <BrokerConnection node_id=bootstrap-0 host=kafka1:9092 <connected> [IPv4 ('172.21.0.6', 9092)]>: Closing connection. \n",
      "2025-03-24 21:31:44,507 - INFO - <BrokerConnection node_id=1 host=kafka1:9092 <connected> [IPv4 ('172.21.0.6', 9092)]>: Closing connection. \n",
      "2025-03-24 21:31:44,510 - INFO - <BrokerConnection node_id=bootstrap-0 host=kafka1:9092 <connecting> [IPv4 ('172.21.0.6', 9092)]>: connecting to kafka1:9092 [('172.21.0.6', 9092) IPv4]\n",
      "2025-03-24 21:31:44,511 - INFO - Probing node bootstrap-0 broker version\n",
      "2025-03-24 21:31:44,512 - INFO - <BrokerConnection node_id=bootstrap-0 host=kafka1:9092 <connecting> [IPv4 ('172.21.0.6', 9092)]>: Connection complete.\n",
      "2025-03-24 21:31:44,621 - INFO - Broker version identified as 2.5.0\n",
      "2025-03-24 21:31:44,622 - INFO - Set configuration api_version=(2, 5, 0) to skip auto check_version requests on startup\n"
     ]
    },
    {
     "name": "stdout",
     "output_type": "stream",
     "text": [
      "Sent: {'sens': 2, 'terminus': 'Commerce', 'infotrafic': True, 'temps': '4mn', 'dernierDepart': 'false', 'tempsReel': 'true', 'ligne': {'numLigne': '1', 'typeLigne': 1}, 'arret': {'codeArret': 'COMC1'}, 'timestamp': '2025-03-24T21:31:44.490824'}\n",
      "Sent: {'sens': 1, 'terminus': 'Jamet', 'infotrafic': True, 'temps': '7mn', 'dernierDepart': 'false', 'tempsReel': 'true', 'ligne': {'numLigne': '1', 'typeLigne': 1}, 'arret': {'codeArret': 'COMB2'}, 'timestamp': '2025-03-24T21:31:44.491038'}\n",
      "Sent: {'sens': 2, 'terminus': 'Commerce', 'infotrafic': True, 'temps': '11mn', 'dernierDepart': 'false', 'tempsReel': 'false', 'ligne': {'numLigne': '1', 'typeLigne': 1}, 'arret': {'codeArret': 'COMC1'}, 'timestamp': '2025-03-24T21:31:44.491103'}\n",
      "Sent: {'sens': 1, 'terminus': 'François Mitterrand', 'infotrafic': True, 'temps': '17mn', 'dernierDepart': 'false', 'tempsReel': 'false', 'ligne': {'numLigne': '1', 'typeLigne': 1}, 'arret': {'codeArret': 'COMB2'}, 'timestamp': '2025-03-24T21:31:44.491156'}\n",
      "Sent: {'sens': 2, 'terminus': 'Espace Diderot', 'infotrafic': False, 'temps': '11mn', 'dernierDepart': 'false', 'tempsReel': 'true', 'ligne': {'numLigne': '2', 'typeLigne': 1}, 'arret': {'codeArret': 'COME2'}, 'timestamp': '2025-03-24T21:31:44.491204'}\n",
      "Sent: {'sens': 1, 'terminus': 'Orvault Grand Val', 'infotrafic': False, 'temps': '14mn', 'dernierDepart': 'false', 'tempsReel': 'false', 'ligne': {'numLigne': '2', 'typeLigne': 1}, 'arret': {'codeArret': 'COME1'}, 'timestamp': '2025-03-24T21:31:44.491248'}\n",
      "Sent: {'sens': 2, 'terminus': 'Gare de Pont Rousseau', 'infotrafic': False, 'temps': '26mn', 'dernierDepart': 'false', 'tempsReel': 'true', 'ligne': {'numLigne': '2', 'typeLigne': 1}, 'arret': {'codeArret': 'COME2'}, 'timestamp': '2025-03-24T21:31:44.491290'}\n",
      "Sent: {'sens': 1, 'terminus': 'Orvault Grand Val', 'infotrafic': False, 'temps': '29mn', 'dernierDepart': 'false', 'tempsReel': 'true', 'ligne': {'numLigne': '2', 'typeLigne': 1}, 'arret': {'codeArret': 'COME1'}, 'timestamp': '2025-03-24T21:31:44.491332'}\n",
      "Sent: {'sens': 2, 'terminus': 'Trocardière', 'infotrafic': True, 'temps': '2mn', 'dernierDepart': 'false', 'tempsReel': 'true', 'ligne': {'numLigne': '3', 'typeLigne': 1}, 'arret': {'codeArret': 'COME2'}, 'timestamp': '2025-03-24T21:31:44.491371'}\n",
      "Sent: {'sens': 1, 'terminus': 'Marcel Paul', 'infotrafic': True, 'temps': '10mn', 'dernierDepart': 'false', 'tempsReel': 'true', 'ligne': {'numLigne': '3', 'typeLigne': 1}, 'arret': {'codeArret': 'COME1'}, 'timestamp': '2025-03-24T21:31:44.491410'}\n",
      "Sent: {'sens': 2, 'terminus': 'Trocardière', 'infotrafic': True, 'temps': '14mn', 'dernierDepart': 'false', 'tempsReel': 'true', 'ligne': {'numLigne': '3', 'typeLigne': 1}, 'arret': {'codeArret': 'COME2'}, 'timestamp': '2025-03-24T21:31:44.491450'}\n",
      "Sent: {'sens': 1, 'terminus': 'Marcel Paul', 'infotrafic': True, 'temps': '19mn', 'dernierDepart': 'false', 'tempsReel': 'false', 'ligne': {'numLigne': '3', 'typeLigne': 1}, 'arret': {'codeArret': 'COME1'}, 'timestamp': '2025-03-24T21:31:44.491500'}\n",
      "Sent: {'sens': 2, 'terminus': 'Gare Sud', 'infotrafic': False, 'temps': '13mn', 'dernierDepart': 'false', 'tempsReel': 'true', 'ligne': {'numLigne': 'C2', 'typeLigne': 3}, 'arret': {'codeArret': 'COME3'}, 'timestamp': '2025-03-24T21:31:44.491549'}\n",
      "Sent: {'sens': 1, 'terminus': 'Le Cardo', 'infotrafic': False, 'temps': '14mn', 'dernierDepart': 'false', 'tempsReel': 'true', 'ligne': {'numLigne': 'C2', 'typeLigne': 3}, 'arret': {'codeArret': 'COMF1'}, 'timestamp': '2025-03-24T21:31:44.491590'}\n",
      "Sent: {'sens': 2, 'terminus': 'Gare Sud', 'infotrafic': False, 'temps': '32mn', 'dernierDepart': 'false', 'tempsReel': 'true', 'ligne': {'numLigne': 'C2', 'typeLigne': 3}, 'arret': {'codeArret': 'COME3'}, 'timestamp': '2025-03-24T21:31:44.491629'}\n",
      "Sent: {'sens': 1, 'terminus': 'Le Cardo', 'infotrafic': False, 'temps': '44mn', 'dernierDepart': 'false', 'tempsReel': 'true', 'ligne': {'numLigne': 'C2', 'typeLigne': 3}, 'arret': {'codeArret': 'COMF1'}, 'timestamp': '2025-03-24T21:31:44.491689'}\n",
      "Sent: {'sens': 1, 'terminus': 'Armor', 'infotrafic': False, 'temps': '4mn', 'dernierDepart': 'false', 'tempsReel': 'true', 'ligne': {'numLigne': 'C3', 'typeLigne': 3}, 'arret': {'codeArret': 'COMF1'}, 'timestamp': '2025-03-24T21:31:44.491749'}\n",
      "Sent: {'sens': 2, 'terminus': 'Bd de Doulon', 'infotrafic': False, 'temps': '15mn', 'dernierDepart': 'false', 'tempsReel': 'true', 'ligne': {'numLigne': 'C3', 'typeLigne': 3}, 'arret': {'codeArret': 'COME3'}, 'timestamp': '2025-03-24T21:31:44.491790'}\n",
      "Sent: {'sens': 1, 'terminus': 'Armor', 'infotrafic': False, 'temps': '19mn', 'dernierDepart': 'false', 'tempsReel': 'true', 'ligne': {'numLigne': 'C3', 'typeLigne': 3}, 'arret': {'codeArret': 'COMF1'}, 'timestamp': '2025-03-24T21:31:44.491846'}\n",
      "Sent: {'sens': 2, 'terminus': 'Bd de Doulon', 'infotrafic': False, 'temps': '44mn', 'dernierDepart': 'false', 'tempsReel': 'true', 'ligne': {'numLigne': 'C3', 'typeLigne': 3}, 'arret': {'codeArret': 'COME3'}, 'timestamp': '2025-03-24T21:31:44.491886'}\n",
      "Sent: {'sens': 1, 'terminus': 'Jonelière', 'infotrafic': True, 'temps': '', 'dernierDepart': 'false', 'tempsReel': 'false', 'ligne': {'numLigne': '26', 'typeLigne': 3}, 'arret': {'codeArret': 'COMF1'}, 'timestamp': '2025-03-24T21:31:44.491926'}\n",
      "Sent: {'sens': 2, 'terminus': 'Hôtel de Région', 'infotrafic': True, 'temps': '', 'dernierDepart': 'false', 'tempsReel': 'false', 'ligne': {'numLigne': '26', 'typeLigne': 3}, 'arret': {'codeArret': 'COME3'}, 'timestamp': '2025-03-24T21:31:44.491967'}\n",
      "Sent: {'sens': 1, 'terminus': 'Marcel Paul', 'infotrafic': True, 'temps': '', 'dernierDepart': 'false', 'tempsReel': 'false', 'ligne': {'numLigne': '54', 'typeLigne': 3}, 'arret': {'codeArret': 'COMF1'}, 'timestamp': '2025-03-24T21:31:44.492008'}\n",
      "Sent: {'sens': 2, 'terminus': 'Saupin', 'infotrafic': True, 'temps': '', 'dernierDepart': 'false', 'tempsReel': 'false', 'ligne': {'numLigne': '54', 'typeLigne': 3}, 'arret': {'codeArret': 'COME3'}, 'timestamp': '2025-03-24T21:31:44.492047'}\n",
      "Sent: {'sens': 1, 'terminus': 'Chantrerie - Grandes Écoles', 'infotrafic': False, 'temps': '', 'dernierDepart': 'false', 'tempsReel': 'false', 'ligne': {'numLigne': 'NC', 'typeLigne': 3}, 'arret': {'codeArret': 'COMF1'}, 'timestamp': '2025-03-24T21:31:44.492085'}\n",
      "Sent 25 records.\n"
     ]
    },
    {
     "name": "stderr",
     "output_type": "stream",
     "text": [
      "2025-03-24 21:31:44,988 - INFO - <BrokerConnection node_id=1 host=kafka1:9092 <connecting> [IPv4 ('172.21.0.6', 9092)]>: connecting to kafka1:9092 [('172.21.0.6', 9092) IPv4]\n",
      "2025-03-24 21:31:44,989 - INFO - <BrokerConnection node_id=1 host=kafka1:9092 <connecting> [IPv4 ('172.21.0.6', 9092)]>: Connection complete.\n",
      "2025-03-24 21:31:44,990 - INFO - <BrokerConnection node_id=bootstrap-0 host=kafka1:9092 <connected> [IPv4 ('172.21.0.6', 9092)]>: Closing connection. \n",
      "2025-03-24 21:31:45,013 - INFO - <BrokerConnection node_id=1 host=kafka1:9092 <connected> [IPv4 ('172.21.0.6', 9092)]>: Closing connection. \n",
      "2025-03-24 21:31:45,020 - INFO - <BrokerConnection node_id=bootstrap-0 host=kafka1:9092 <connecting> [IPv4 ('172.21.0.6', 9092)]>: connecting to kafka1:9092 [('172.21.0.6', 9092) IPv4]\n",
      "2025-03-24 21:31:45,021 - INFO - Probing node bootstrap-0 broker version\n",
      "2025-03-24 21:31:45,023 - INFO - <BrokerConnection node_id=bootstrap-0 host=kafka1:9092 <connecting> [IPv4 ('172.21.0.6', 9092)]>: Connection complete.\n",
      "2025-03-24 21:31:45,139 - INFO - Broker version identified as 2.5.0\n",
      "2025-03-24 21:31:45,141 - INFO - Set configuration api_version=(2, 5, 0) to skip auto check_version requests on startup\n"
     ]
    },
    {
     "name": "stdout",
     "output_type": "stream",
     "text": [
      "Sent: {'sens': 1, 'terminus': 'Basse-Goulaine', 'infotrafic': False, 'temps': '19mn', 'dernierDepart': 'false', 'tempsReel': 'true', 'ligne': {'numLigne': 'C9', 'typeLigne': 3}, 'arret': {'codeArret': 'PIRA1'}, 'timestamp': '2025-03-24T21:31:44.984898'}\n",
      "Sent: {'sens': 1, 'terminus': 'Chalonges', 'infotrafic': False, 'temps': '49mn', 'dernierDepart': 'false', 'tempsReel': 'true', 'ligne': {'numLigne': 'C9', 'typeLigne': 3}, 'arret': {'codeArret': 'PIRA1'}, 'timestamp': '2025-03-24T21:31:44.985469'}\n",
      "Sent: {'sens': 1, 'terminus': 'La Herdrie', 'infotrafic': False, 'temps': '', 'dernierDepart': 'false', 'tempsReel': 'false', 'ligne': {'numLigne': '27', 'typeLigne': 3}, 'arret': {'codeArret': 'PIRA1'}, 'timestamp': '2025-03-24T21:31:44.985685'}\n",
      "Sent: {'sens': 1, 'terminus': 'Chalonges', 'infotrafic': False, 'temps': '', 'dernierDepart': 'false', 'tempsReel': 'false', 'ligne': {'numLigne': '27', 'typeLigne': 3}, 'arret': {'codeArret': 'PIRA1'}, 'timestamp': '2025-03-24T21:31:44.985920'}\n",
      "Sent: {'sens': 1, 'terminus': 'Vertou', 'infotrafic': False, 'temps': '17mn', 'dernierDepart': 'false', 'tempsReel': 'true', 'ligne': {'numLigne': '28', 'typeLigne': 3}, 'arret': {'codeArret': 'PIRA1'}, 'timestamp': '2025-03-24T21:31:44.986104'}\n",
      "Sent: {'sens': 1, 'terminus': 'La Herdrie', 'infotrafic': False, 'temps': '', 'dernierDepart': 'false', 'tempsReel': 'false', 'ligne': {'numLigne': '152', 'typeLigne': 3}, 'arret': {'codeArret': 'PIRA1'}, 'timestamp': '2025-03-24T21:31:44.986292'}\n",
      "Sent: {'sens': 1, 'terminus': 'La Herdrie', 'infotrafic': True, 'temps': '', 'dernierDepart': 'false', 'tempsReel': 'false', 'ligne': {'numLigne': '162', 'typeLigne': 3}, 'arret': {'codeArret': 'PIRA1'}, 'timestamp': '2025-03-24T21:31:44.986437'}\n",
      "Sent 7 records.\n"
     ]
    },
    {
     "name": "stderr",
     "output_type": "stream",
     "text": [
      "2025-03-24 21:31:45,257 - INFO - <BrokerConnection node_id=bootstrap-0 host=kafka1:9092 <connected> [IPv4 ('172.21.0.6', 9092)]>: Closing connection. \n",
      "2025-03-24 21:31:45,261 - INFO - <BrokerConnection node_id=bootstrap-0 host=kafka1:9092 <connecting> [IPv4 ('172.21.0.6', 9092)]>: connecting to kafka1:9092 [('172.21.0.6', 9092) IPv4]\n",
      "2025-03-24 21:31:45,262 - INFO - Probing node bootstrap-0 broker version\n",
      "2025-03-24 21:31:45,264 - INFO - <BrokerConnection node_id=bootstrap-0 host=kafka1:9092 <connecting> [IPv4 ('172.21.0.6', 9092)]>: Connection complete.\n",
      "2025-03-24 21:31:45,370 - INFO - Broker version identified as 2.5.0\n",
      "2025-03-24 21:31:45,371 - INFO - Set configuration api_version=(2, 5, 0) to skip auto check_version requests on startup\n"
     ]
    },
    {
     "name": "stdout",
     "output_type": "stream",
     "text": [
      "Failed to fetch data: 500, <!DOCTYPE html>\n",
      "<html>\n",
      "<head>\n",
      "    <meta charset=\"UTF-8\" />\n",
      "    <meta name=\"robots\" content=\"noindex,nofollow,noarchive\" />\n",
      "    <title>An Error Occurred: Internal Server Error</title>\n",
      "    <style>body { background-color: #fff; color: #222; font: 16px/1.5 -apple-system, BlinkMacSystemFont, \"Segoe UI\", Roboto, \"Helvetica Neue\", Arial, sans-serif; margin: 0; }\n",
      ".container { margin: 30px; max-width: 600px; }\n",
      "h1 { color: #dc3545; font-size: 24px; }\n",
      "h2 { font-size: 18px; }</style>\n",
      "</head>\n",
      "<body>\n",
      "<div class=\"container\">\n",
      "    <h1>Oops! An Error Occurred</h1>\n",
      "    <h2>The server returned a \"500 Internal Server Error\".</h2>\n",
      "\n",
      "    <p>\n",
      "        Something is broken. Please let us know what you were doing when this error occurred.\n",
      "        We will fix it as soon as possible. Sorry for any inconvenience caused.\n",
      "    </p>\n",
      "</div>\n",
      "</body>\n",
      "</html>\n"
     ]
    },
    {
     "name": "stderr",
     "output_type": "stream",
     "text": [
      "2025-03-24 21:31:45,512 - INFO - <BrokerConnection node_id=bootstrap-0 host=kafka1:9092 <connected> [IPv4 ('172.21.0.6', 9092)]>: Closing connection. \n"
     ]
    },
    {
     "name": "stdout",
     "output_type": "stream",
     "text": [
      "Failed to fetch data: 500, <!DOCTYPE html>\n",
      "<html>\n",
      "<head>\n",
      "    <meta charset=\"UTF-8\" />\n",
      "    <meta name=\"robots\" content=\"noindex,nofollow,noarchive\" />\n",
      "    <title>An Error Occurred: Internal Server Error</title>\n",
      "    <style>body { background-color: #fff; color: #222; font: 16px/1.5 -apple-system, BlinkMacSystemFont, \"Segoe UI\", Roboto, \"Helvetica Neue\", Arial, sans-serif; margin: 0; }\n",
      ".container { margin: 30px; max-width: 600px; }\n",
      "h1 { color: #dc3545; font-size: 24px; }\n",
      "h2 { font-size: 18px; }</style>\n",
      "</head>\n",
      "<body>\n",
      "<div class=\"container\">\n",
      "    <h1>Oops! An Error Occurred</h1>\n",
      "    <h2>The server returned a \"500 Internal Server Error\".</h2>\n",
      "\n",
      "    <p>\n",
      "        Something is broken. Please let us know what you were doing when this error occurred.\n",
      "        We will fix it as soon as possible. Sorry for any inconvenience caused.\n",
      "    </p>\n",
      "</div>\n",
      "</body>\n",
      "</html>\n",
      "Collecte en cours depuis 2.8 secondes. Attente de 60 secondes...\n",
      "\n",
      "Collecte interrompue par l'utilisateur\n"
     ]
    }
   ],
   "source": [
    "# Collecte continue pendant 5 minutes (intervalle de 60 secondes)\n",
    "continuous_data_collection(duration_minutes=5, interval_seconds=60)"
   ]
  },
  {
   "cell_type": "markdown",
   "metadata": {},
   "source": [
    "## Vérification des données dans Kafka\n",
    "\n",
    "Vérifions que les données ont bien été envoyées à Kafka en utilisant un consommateur simple."
   ]
  },
  {
   "cell_type": "code",
   "execution_count": 9,
   "metadata": {},
   "outputs": [],
   "source": [
    "from kafka import KafkaConsumer\n",
    "import json\n",
    "\n",
    "def check_kafka_topic(topic, max_messages=5):\n",
    "    \"\"\"\n",
    "    Vérifie les messages dans un topic Kafka.\n",
    "    \n",
    "    Args:\n",
    "        topic (str): Nom du topic à vérifier\n",
    "        max_messages (int): Nombre maximum de messages à récupérer\n",
    "    \"\"\"\n",
    "    try:\n",
    "        # Initialisation du consommateur Kafka\n",
    "        consumer = KafkaConsumer(\n",
    "            topic,\n",
    "            bootstrap_servers=\"kafka1:9092\",\n",
    "            value_deserializer=lambda m: json.loads(m.decode('utf-8')),\n",
    "            auto_offset_reset=\"latest\",  # Récupère uniquement les nouveaux messages\n",
    "            consumer_timeout_ms=5000  # Timeout après 5 secondes sans message\n",
    "        )\n",
    "        \n",
    "        print(f\"Vérification du topic '{topic}' (max {max_messages} messages)...\")\n",
    "        count = 0\n",
    "        for message in consumer:\n",
    "            print(f\"Message {count + 1}: {message.value}\")\n",
    "            count += 1\n",
    "            if count >= max_messages:\n",
    "                break\n",
    "                \n",
    "        if count == 0:\n",
    "            print(f\"Aucun nouveau message dans le topic '{topic}'\")\n",
    "        else:\n",
    "            print(f\"Récupéré {count} messages du topic '{topic}'\")\n",
    "            \n",
    "        consumer.close()\n",
    "    except Exception as e:\n",
    "        print(f\"Erreur lors de la lecture du topic Kafka: {e}\")"
   ]
  },
  {
   "cell_type": "code",
   "execution_count": 10,
   "metadata": {},
   "outputs": [
    {
     "name": "stderr",
     "output_type": "stream",
     "text": [
      "2025-03-24 20:47:32,965 - INFO - <BrokerConnection client_id=kafka-python-2.1.3.dev, node_id=bootstrap-0 host=kafka1:9092 <connecting> [IPv4 ('172.21.0.6', 9092)]>: connecting to kafka1:9092 [('172.21.0.6', 9092) IPv4]\n",
      "2025-03-24 20:47:32,985 - INFO - Broker version identified as 2.6\n",
      "2025-03-24 20:47:32,986 - INFO - <BrokerConnection client_id=kafka-python-2.1.3.dev, node_id=bootstrap-0 host=kafka1:9092 <checking_api_versions_recv> [IPv4 ('172.21.0.6', 9092)]>: Connection complete.\n",
      "2025-03-24 20:47:32,990 - WARNING - group_id is None: disabling auto-commit.\n",
      "2025-03-24 20:47:32,991 - INFO - Updating subscribed topics to: ('tan_stops',)\n",
      "2025-03-24 20:47:32,995 - INFO - Updated partition assignment: [TopicPartition(topic='tan_stops', partition=0), TopicPartition(topic='tan_stops', partition=1), TopicPartition(topic='tan_stops', partition=2)]\n",
      "2025-03-24 20:47:32,997 - INFO - <BrokerConnection client_id=kafka-python-2.1.3.dev, node_id=1 host=kafka1:9092 <connecting> [IPv4 ('172.21.0.6', 9092)]>: connecting to kafka1:9092 [('172.21.0.6', 9092) IPv4]\n",
      "2025-03-24 20:47:32,998 - INFO - <BrokerConnection client_id=kafka-python-2.1.3.dev, node_id=1 host=kafka1:9092 <checking_api_versions_send> [IPv4 ('172.21.0.6', 9092)]>: Connection complete.\n",
      "2025-03-24 20:47:32,999 - INFO - <BrokerConnection client_id=kafka-python-2.1.3.dev, node_id=bootstrap-0 host=kafka1:9092 <connected> [IPv4 ('172.21.0.6', 9092)]>: Closing connection. \n"
     ]
    },
    {
     "name": "stdout",
     "output_type": "stream",
     "text": [
      "Vérification du topic 'tan_stops' (max 3 messages)...\n"
     ]
    },
    {
     "name": "stderr",
     "output_type": "stream",
     "text": [
      "2025-03-24 20:47:37,996 - INFO - <BrokerConnection client_id=kafka-python-2.1.3.dev, node_id=1 host=kafka1:9092 <connected> [IPv4 ('172.21.0.6', 9092)]>: Closing connection. \n",
      "2025-03-24 20:47:37,997 - INFO - Fetch to node 1 failed: Cancelled: <BrokerConnection client_id=kafka-python-2.1.3.dev, node_id=1 host=kafka1:9092 <connected> [IPv4 ('172.21.0.6', 9092)]>\n"
     ]
    },
    {
     "name": "stdout",
     "output_type": "stream",
     "text": [
      "Aucun nouveau message dans le topic 'tan_stops'\n"
     ]
    }
   ],
   "source": [
    "# Vérification des topics\n",
    "check_kafka_topic(\"tan_stops\", max_messages=3)"
   ]
  },
  {
   "cell_type": "code",
   "execution_count": 10,
   "metadata": {},
   "outputs": [
    {
     "name": "stderr",
     "output_type": "stream",
     "text": [
      "2025-03-24 21:32:02,660 - INFO - <BrokerConnection node_id=bootstrap-0 host=kafka1:9092 <connecting> [IPv4 ('172.21.0.6', 9092)]>: connecting to kafka1:9092 [('172.21.0.6', 9092) IPv4]\n",
      "2025-03-24 21:32:02,664 - INFO - Probing node bootstrap-0 broker version\n",
      "2025-03-24 21:32:02,669 - INFO - <BrokerConnection node_id=bootstrap-0 host=kafka1:9092 <connecting> [IPv4 ('172.21.0.6', 9092)]>: Connection complete.\n",
      "2025-03-24 21:32:02,783 - INFO - Broker version identified as 2.5.0\n",
      "2025-03-24 21:32:02,784 - INFO - Set configuration api_version=(2, 5, 0) to skip auto check_version requests on startup\n",
      "2025-03-24 21:32:02,788 - WARNING - group_id is None: disabling auto-commit.\n",
      "2025-03-24 21:32:02,789 - INFO - Updating subscribed topics to: ('tan_wait_times',)\n",
      "2025-03-24 21:32:02,794 - INFO - Updated partition assignment: [TopicPartition(topic='tan_wait_times', partition=0)]\n",
      "2025-03-24 21:32:02,796 - INFO - <BrokerConnection node_id=1 host=kafka1:9092 <connecting> [IPv4 ('172.21.0.6', 9092)]>: connecting to kafka1:9092 [('172.21.0.6', 9092) IPv4]\n",
      "2025-03-24 21:32:02,798 - INFO - <BrokerConnection node_id=1 host=kafka1:9092 <connecting> [IPv4 ('172.21.0.6', 9092)]>: Connection complete.\n",
      "2025-03-24 21:32:02,799 - INFO - <BrokerConnection node_id=bootstrap-0 host=kafka1:9092 <connected> [IPv4 ('172.21.0.6', 9092)]>: Closing connection. \n"
     ]
    },
    {
     "name": "stdout",
     "output_type": "stream",
     "text": [
      "Vérification du topic 'tan_wait_times' (max 3 messages)...\n"
     ]
    },
    {
     "name": "stderr",
     "output_type": "stream",
     "text": [
      "2025-03-24 21:32:07,800 - INFO - <BrokerConnection node_id=1 host=kafka1:9092 <connected> [IPv4 ('172.21.0.6', 9092)]>: Closing connection. \n",
      "2025-03-24 21:32:07,803 - ERROR - Fetch to node 1 failed: Cancelled: <BrokerConnection node_id=1 host=kafka1:9092 <connected> [IPv4 ('172.21.0.6', 9092)]>\n"
     ]
    },
    {
     "name": "stdout",
     "output_type": "stream",
     "text": [
      "Aucun nouveau message dans le topic 'tan_wait_times'\n"
     ]
    }
   ],
   "source": [
    "check_kafka_topic(\"tan_wait_times\", max_messages=3)"
   ]
  },
  {
   "cell_type": "code",
   "execution_count": 11,
   "metadata": {},
   "outputs": [
    {
     "name": "stderr",
     "output_type": "stream",
     "text": [
      "2025-03-24 21:32:07,824 - INFO - <BrokerConnection node_id=bootstrap-0 host=kafka1:9092 <connecting> [IPv4 ('172.21.0.6', 9092)]>: connecting to kafka1:9092 [('172.21.0.6', 9092) IPv4]\n",
      "2025-03-24 21:32:07,829 - INFO - Probing node bootstrap-0 broker version\n",
      "2025-03-24 21:32:07,831 - INFO - <BrokerConnection node_id=bootstrap-0 host=kafka1:9092 <connecting> [IPv4 ('172.21.0.6', 9092)]>: Connection complete.\n",
      "2025-03-24 21:32:07,939 - INFO - Broker version identified as 2.5.0\n",
      "2025-03-24 21:32:07,940 - INFO - Set configuration api_version=(2, 5, 0) to skip auto check_version requests on startup\n",
      "2025-03-24 21:32:07,942 - WARNING - group_id is None: disabling auto-commit.\n",
      "2025-03-24 21:32:07,943 - INFO - Updating subscribed topics to: ('tan_schedules',)\n"
     ]
    },
    {
     "name": "stdout",
     "output_type": "stream",
     "text": [
      "Vérification du topic 'tan_schedules' (max 3 messages)...\n"
     ]
    },
    {
     "name": "stderr",
     "output_type": "stream",
     "text": [
      "2025-03-24 21:32:08,098 - INFO - Updated partition assignment: [TopicPartition(topic='tan_schedules', partition=0)]\n",
      "2025-03-24 21:32:08,099 - INFO - <BrokerConnection node_id=1 host=kafka1:9092 <connecting> [IPv4 ('172.21.0.6', 9092)]>: connecting to kafka1:9092 [('172.21.0.6', 9092) IPv4]\n",
      "2025-03-24 21:32:08,100 - INFO - <BrokerConnection node_id=1 host=kafka1:9092 <connecting> [IPv4 ('172.21.0.6', 9092)]>: Connection complete.\n",
      "2025-03-24 21:32:08,101 - INFO - <BrokerConnection node_id=bootstrap-0 host=kafka1:9092 <connected> [IPv4 ('172.21.0.6', 9092)]>: Closing connection. \n",
      "2025-03-24 21:32:12,951 - INFO - <BrokerConnection node_id=1 host=kafka1:9092 <connected> [IPv4 ('172.21.0.6', 9092)]>: Closing connection. \n",
      "2025-03-24 21:32:12,954 - ERROR - Fetch to node 1 failed: Cancelled: <BrokerConnection node_id=1 host=kafka1:9092 <connected> [IPv4 ('172.21.0.6', 9092)]>\n"
     ]
    },
    {
     "name": "stdout",
     "output_type": "stream",
     "text": [
      "Aucun nouveau message dans le topic 'tan_schedules'\n"
     ]
    }
   ],
   "source": [
    "check_kafka_topic(\"tan_schedules\", max_messages=3)"
   ]
  }
 ],
 "metadata": {
  "kernelspec": {
   "display_name": "Python 3 (ipykernel)",
   "language": "python",
   "name": "python3"
  },
  "language_info": {
   "codemirror_mode": {
    "name": "ipython",
    "version": 3
   },
   "file_extension": ".py",
   "mimetype": "text/x-python",
   "name": "python",
   "nbconvert_exporter": "python",
   "pygments_lexer": "ipython3",
   "version": "3.11.10"
  }
 },
 "nbformat": 4,
 "nbformat_minor": 2
}
